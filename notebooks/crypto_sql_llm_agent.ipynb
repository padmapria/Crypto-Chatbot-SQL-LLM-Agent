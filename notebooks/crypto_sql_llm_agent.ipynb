{
 "cells": [
  {
   "cell_type": "markdown",
   "id": "2de32a47",
   "metadata": {},
   "source": [
    "### Building an Agent-Based Question Answering System with LangGraph (RAG and LLM Fallback)"
   ]
  },
  {
   "cell_type": "raw",
   "id": "c7f50c76",
   "metadata": {},
   "source": [
    "LangChain has a SQL Agent which provides a more flexible way of interacting with SQL Databases than a chain. The main advantages of using the SQL Agent are:\n",
    "\n",
    "It can answer questions based on the databases' schema as well as on the databases' content (like describing a specific table).\n",
    "It can recover from errors by running a generated query, catching the traceback and regenerating it correctly.\n",
    "It can query the database as many times as needed to answer the user question.\n",
    "It will save tokens by only retrieving the schema from relevant tables.\n",
    "\n",
    "https://python.langchain.com/v0.1/docs/use_cases/sql/agents/\n",
    "\n",
    "\n",
    "LangGraph is a framework for building robust LLM applications. It helps orchestrate complex workflows, manage application state, implement conditional logic, and enhance error handling, especially when integrating tools like the LangChain SQL Agent.  It simplifies the development of multi-step, interactive LLM applications.\n",
    "\n",
    "#https://github.com/langchain-ai/langgraph/blob/main/docs/docs/tutorials/rag/langgraph_agentic_rag.ipynb"
   ]
  },
  {
   "cell_type": "code",
   "execution_count": 1,
   "id": "eda4646f",
   "metadata": {
    "ExecuteTime": {
     "end_time": "2025-02-05T05:31:19.294327Z",
     "start_time": "2025-02-05T05:31:16.216254Z"
    }
   },
   "outputs": [],
   "source": [
    "import os,openai\n",
    "import pandas as pd\n",
    "from typing import List, Tuple\n",
    "from langchain_community.utilities import SQLDatabase\n",
    "from langchain.chains import create_sql_query_chain\n",
    "from langchain_community.tools.sql_database.tool import QuerySQLDataBaseTool\n",
    "from langchain_core.prompts import PromptTemplate\n",
    "from langchain_core.output_parsers import StrOutputParser\n",
    "from langchain_core.runnables import RunnablePassthrough\n",
    "from operator import itemgetter\n",
    "from sqlalchemy import create_engine\n",
    "from langchain_community.agent_toolkits import create_sql_agent\n",
    "from langchain_openai import ChatOpenAI\n",
    "import langchain\n",
    "langchain.debug = False\n",
    "\n",
    "import mysql.connector\n",
    "from mysql.connector import pooling\n",
    "from datetime import datetime  # Import datetime for timestamp handling\n",
    "import logging\n",
    "from dotenv import load_dotenv\n",
    "\n",
    "# Load environment variables\n",
    "load_dotenv()\n",
    "\n",
    "# Set the OpenAI API key\n",
    "openai_api_key = os.getenv(\"OPENAI_API_KEY\")\n",
    "\n",
    "logging.basicConfig(level=logging.INFO, format='%(asctime)s - %(levelname)s - %(message)s')"
   ]
  },
  {
   "cell_type": "markdown",
   "id": "a5880b18",
   "metadata": {},
   "source": [
    "### Load Env variables"
   ]
  },
  {
   "cell_type": "code",
   "execution_count": 2,
   "id": "42308bf1",
   "metadata": {
    "ExecuteTime": {
     "end_time": "2025-02-05T05:31:21.834088Z",
     "start_time": "2025-02-05T05:31:21.827126Z"
    }
   },
   "outputs": [],
   "source": [
    "# Get the variables from the environment\n",
    "load_dotenv(dotenv_path=\".env.dbdetails\")\n",
    "db_user = os.getenv('DB_USER')\n",
    "db_password = os.getenv('DB_PASSWORD')\n",
    "db_host = \"localhost\"  ## Docker dbhost is not connecting via jupyter  \n",
    "db_port = os.getenv('DB_PORT')\n",
    "db_name = os.getenv('DB_NAME')\n",
    "\n",
    "# Construct the MySQL URI\n",
    "mysql_uri = f\"mysql+mysqlconnector://{db_user}:{db_password}@{db_host}:{db_port}/{db_name}\""
   ]
  },
  {
   "cell_type": "markdown",
   "id": "1c68c462",
   "metadata": {},
   "source": [
    "### Create SQL engine"
   ]
  },
  {
   "cell_type": "code",
   "execution_count": 3,
   "id": "82c18514",
   "metadata": {
    "ExecuteTime": {
     "end_time": "2025-02-05T05:31:25.538185Z",
     "start_time": "2025-02-05T05:31:23.152512Z"
    }
   },
   "outputs": [
    {
     "name": "stdout",
     "output_type": "stream",
     "text": [
      "mysql\n"
     ]
    }
   ],
   "source": [
    "# Define MySQL URI\n",
    "engine = create_engine(mysql_uri)\n",
    "\n",
    "# Create SQLDatabase object from URI\n",
    "db = SQLDatabase.from_uri(mysql_uri)\n",
    "print(db.dialect)\n",
    "\n",
    "llm = ChatOpenAI(model=\"gpt-3.5-turbo\", temperature=1)\n",
    "agent_executor = create_sql_agent(llm, db=db, agent_type=\"openai-tools\",return_intermediate_steps=False, return_direct=True)"
   ]
  },
  {
   "cell_type": "markdown",
   "id": "45b210fb",
   "metadata": {},
   "source": [
    "### Load the csv data into SQL DB"
   ]
  },
  {
   "cell_type": "code",
   "execution_count": 4,
   "id": "a88a0dd8",
   "metadata": {
    "ExecuteTime": {
     "end_time": "2025-02-05T05:31:27.765441Z",
     "start_time": "2025-02-05T05:31:27.541677Z"
    }
   },
   "outputs": [
    {
     "name": "stdout",
     "output_type": "stream",
     "text": [
      "\n",
      "Combined DataFrame shape: (1464, 6)\n",
      "\n",
      "Table 'crypto_data' exists and has shape: (1464, 6)\n"
     ]
    }
   ],
   "source": [
    "import glob\n",
    "\n",
    "def prepare_data():\n",
    "    # Define data folder path\n",
    "    data_folder = '../data/'\n",
    "\n",
    "    # Get list of CSV files starting with \"CRYPTOCURRENCY\"\n",
    "    files = glob.glob(data_folder + 'CRYPTOCURRENCY*.csv')\n",
    "\n",
    "    # Initialize empty list to store DataFrames\n",
    "    dfs = []\n",
    "    # Load each CSV file into a DataFrame and append to list\n",
    "    for file in files:\n",
    "        df = pd.read_csv(file)\n",
    "        dfs.append(df)\n",
    "\n",
    "    # Concatenate all DataFrames into a single DataFrame\n",
    "    combined_df = pd.concat(dfs, ignore_index=True)\n",
    "    combined_df = combined_df.rename(columns={\n",
    "    'cryptocurrency': 'Symbol'\n",
    "    }).astype({\n",
    "    'Date': 'datetime64[ns]',\n",
    "    'Symbol': 'object'\n",
    "    })\n",
    "    \n",
    "    # Remove commas from columns and then convert to float\n",
    "    combined_df['Open'] = pd.to_numeric(combined_df['Open'].replace(',', '', regex=True), errors='coerce')\n",
    "    combined_df['Close'] = pd.to_numeric(combined_df['Close'].replace(',', '', regex=True), errors='coerce')\n",
    "    combined_df['Low'] = pd.to_numeric(combined_df['Low'].replace(',', '', regex=True), errors='coerce')\n",
    "    combined_df['High'] = pd.to_numeric(combined_df['High'].replace(',', '', regex=True), errors='coerce')\n",
    "\n",
    "    print(\"\\nCombined DataFrame shape:\", combined_df.shape)\n",
    "    return combined_df\n",
    "\n",
    "def create_db_table(combined_df):\n",
    "    # Create table in MySQL database\n",
    "    combined_df.to_sql(\"crypto_data\", engine, index=False, if_exists=\"replace\")\n",
    "    \n",
    "    # Test if table is created\n",
    "    try:\n",
    "        result = pd.read_sql_table(\"crypto_data\", engine)\n",
    "        print(\"\\nTable 'crypto_data' exists and has shape:\", result.shape)\n",
    "    except Exception as e:\n",
    "        print(\"\\nError:\", str(e))\n",
    "        \n",
    "combined_df = prepare_data()\n",
    "create_db_table(combined_df)"
   ]
  },
  {
   "cell_type": "markdown",
   "id": "1aab7275",
   "metadata": {},
   "source": [
    "### Using an LLM to Create and Run SQL Queries for user question in plain text"
   ]
  },
  {
   "cell_type": "code",
   "execution_count": 5,
   "id": "1947afca",
   "metadata": {
    "ExecuteTime": {
     "end_time": "2025-02-05T05:31:30.123743Z",
     "start_time": "2025-02-05T05:31:29.159037Z"
    }
   },
   "outputs": [
    {
     "name": "stderr",
     "output_type": "stream",
     "text": [
      "2025-02-05 13:31:30,081 - INFO - HTTP Request: POST https://api.openai.com/v1/chat/completions \"HTTP/1.1 200 OK\"\n"
     ]
    },
    {
     "name": "stdout",
     "output_type": "stream",
     "text": [
      "SELECT COUNT(DISTINCT `Symbol`) AS unique_symbols FROM crypto_data;\n"
     ]
    },
    {
     "data": {
      "text/plain": [
       "'[(4,)]'"
      ]
     },
     "execution_count": 5,
     "metadata": {},
     "output_type": "execute_result"
    }
   ],
   "source": [
    "chain = create_sql_query_chain(llm, db)\n",
    "response = chain.invoke({\"question\": \"How many unique symbol are there in crypto_data\"})\n",
    "print(response)\n",
    "db.run(response)"
   ]
  },
  {
   "cell_type": "code",
   "execution_count": 6,
   "id": "69c28e82",
   "metadata": {
    "ExecuteTime": {
     "end_time": "2025-02-05T05:31:31.478808Z",
     "start_time": "2025-02-05T05:31:30.763529Z"
    }
   },
   "outputs": [
    {
     "name": "stderr",
     "output_type": "stream",
     "text": [
      "2025-02-05 13:31:31,449 - INFO - HTTP Request: POST https://api.openai.com/v1/chat/completions \"HTTP/1.1 200 OK\"\n"
     ]
    },
    {
     "name": "stdout",
     "output_type": "stream",
     "text": [
      "SELECT COUNT(DISTINCT `Symbol`) AS UniqueSymbols FROM crypto_data\n",
      "[(4,)]\n"
     ]
    }
   ],
   "source": [
    "try:\n",
    "    chain = create_sql_query_chain(llm, db)\n",
    "    question = \"How many unique symbol are there in crypto_data\"  # Or get this from user input\n",
    "    response = chain.invoke({\"question\": question})\n",
    "    print(response) # Print the query\n",
    "\n",
    "    results = db.run(response)  # Capture the results\n",
    "    print(results)  # Process and display the results\n",
    "\n",
    "except Exception as e:\n",
    "    logging.exception(f\"An error occurred: {e}\") # Log the full exception, including traceback\n",
    "    print(\"An error occurred. Please check the logs for details.\")  # User-friendly message"
   ]
  },
  {
   "cell_type": "markdown",
   "id": "a028cf16",
   "metadata": {},
   "source": [
    "### RAG Pipeline integration"
   ]
  },
  {
   "cell_type": "markdown",
   "id": "9c777b18",
   "metadata": {},
   "source": [
    "#### Pass user question and create sql query with llm  and pass the sql query result to llm to generate meaningful answer"
   ]
  },
  {
   "cell_type": "code",
   "execution_count": 7,
   "id": "4ba7b2ef",
   "metadata": {
    "ExecuteTime": {
     "end_time": "2025-02-05T05:31:34.852176Z",
     "start_time": "2025-02-05T05:31:33.403474Z"
    }
   },
   "outputs": [
    {
     "name": "stderr",
     "output_type": "stream",
     "text": [
      "C:\\Users\\padma\\AppData\\Local\\Temp\\ipykernel_162008\\2131763530.py:19: LangChainDeprecationWarning: The class `QuerySQLDataBaseTool` was deprecated in LangChain 0.3.12 and will be removed in 1.0. An updated version of the class exists in the :class:`~langchain-community package and should be used instead. To use it run `pip install -U :class:`~langchain-community` and import as `from :class:`~langchain_community.tools import QuerySQLDatabaseTool``.\n",
      "  execute_query = QuerySQLDataBaseTool(db=db)\n",
      "2025-02-05 13:31:34,198 - INFO - HTTP Request: POST https://api.openai.com/v1/chat/completions \"HTTP/1.1 200 OK\"\n",
      "2025-02-05 13:31:34,845 - INFO - HTTP Request: POST https://api.openai.com/v1/chat/completions \"HTTP/1.1 200 OK\"\n",
      "2025-02-05 13:31:34,848 - INFO - Chain invoked successfully.\n"
     ]
    },
    {
     "name": "stdout",
     "output_type": "stream",
     "text": [
      "The lowest price for Ethereum in April was $2864.54.\n"
     ]
    }
   ],
   "source": [
    "from operator import itemgetter\n",
    "from langchain_core.output_parsers import StrOutputParser\n",
    "#OutputParser that parses LLMResult into the top likely string.\n",
    "from langchain_core.prompts import PromptTemplate\n",
    "from langchain_core.runnables import RunnablePassthrough\n",
    "\n",
    "def get_answer_from_sql(user_query):\n",
    "    answer_prompt = PromptTemplate.from_template(\n",
    "        \"\"\"Given the following user question,corresponding SQL query, and SQL result, \n",
    "        answer the user question in upto 4 lines from the data provided in the SQL result.\n",
    "        If you have no answer, respond like you have no data.\n",
    "\n",
    "        Question: {question}\n",
    "        SQL Query: {query}\n",
    "        SQL Result: {result}\n",
    "        Answer: \"\"\"\n",
    "    )\n",
    "\n",
    "    execute_query = QuerySQLDataBaseTool(db=db)\n",
    "    write_query = create_sql_query_chain(llm, db)\n",
    "    answer = answer_prompt | llm | StrOutputParser()\n",
    "\n",
    "    chain = (\n",
    "        RunnablePassthrough.assign(query=write_query).assign(\n",
    "            result=itemgetter(\"query\") | execute_query \n",
    "        )\n",
    "        | answer_prompt\n",
    "        | llm\n",
    "        | StrOutputParser()\n",
    "    )\n",
    "\n",
    "    try:\n",
    "        response = chain.invoke({\"question\": user_query})\n",
    "        logging.info(\"Chain invoked successfully.\")\n",
    "        return response\n",
    "    \n",
    "    except OperationalError as e:\n",
    "        logging.error(f\"Database error: {e}\", exc_info=True)  # Include stack trace\n",
    "        return \"There was a problem with the database. Please try again later.\" #Or a more generic message for security\n",
    "    except KeyError as e:\n",
    "        logging.error(f\"Missing key in query result: {e}\", exc_info=True)\n",
    "        return \"An internal error occurred. Please try again later.\"\n",
    "    except LangChainError as e: #Example for Langchain errors\n",
    "        logging.error(f\"LLM error: {e}\", exc_info=True)\n",
    "        return \"There was a problem with the language model. Please try again later.\"\n",
    "    except Exception as e:  # Catch-all for unexpected errors\n",
    "        logging.exception(f\"An unexpected error occurred: {e}\")  # logs the exception AND traceback\n",
    "        return \"An unexpected error occurred. Please try again later.\" #Or a more generic message for security\n",
    "\n",
    "\n",
    "user_query = \"what is the lowest price for ethereum in april\"\n",
    "response = get_answer_from_sql(user_query)\n",
    "print(response)\n"
   ]
  },
  {
   "cell_type": "markdown",
   "id": "ec85e736",
   "metadata": {},
   "source": [
    "#### Using an LLM to Create and Run SQL Queries for user question in plain text"
   ]
  },
  {
   "cell_type": "code",
   "execution_count": 8,
   "id": "5b7824d1",
   "metadata": {
    "ExecuteTime": {
     "end_time": "2025-02-05T05:31:40.511891Z",
     "start_time": "2025-02-05T05:31:38.991097Z"
    }
   },
   "outputs": [
    {
     "name": "stderr",
     "output_type": "stream",
     "text": [
      "2025-02-05 13:31:39,809 - INFO - HTTP Request: POST https://api.openai.com/v1/chat/completions \"HTTP/1.1 200 OK\"\n",
      "2025-02-05 13:31:40,498 - INFO - HTTP Request: POST https://api.openai.com/v1/chat/completions \"HTTP/1.1 200 OK\"\n",
      "2025-02-05 13:31:40,505 - INFO - Chain invoked successfully.\n"
     ]
    },
    {
     "name": "stdout",
     "output_type": "stream",
     "text": [
      "SOL is cheaper overall compared to ETH based on the provided minimum closing prices in the SQL result.\n"
     ]
    }
   ],
   "source": [
    "user_query = \"which is cheap SOL or ETH overall\"\n",
    "response = get_answer_from_sql(user_query)\n",
    "print(response)"
   ]
  },
  {
   "cell_type": "code",
   "execution_count": 9,
   "id": "1da187da",
   "metadata": {
    "ExecuteTime": {
     "end_time": "2025-02-05T05:31:44.169010Z",
     "start_time": "2025-02-05T05:31:41.903247Z"
    }
   },
   "outputs": [
    {
     "name": "stderr",
     "output_type": "stream",
     "text": [
      "2025-02-05 13:31:43,141 - INFO - HTTP Request: POST https://api.openai.com/v1/chat/completions \"HTTP/1.1 200 OK\"\n",
      "2025-02-05 13:31:44,155 - INFO - HTTP Request: POST https://api.openai.com/v1/chat/completions \"HTTP/1.1 200 OK\"\n",
      "2025-02-05 13:31:44,161 - INFO - Chain invoked successfully.\n"
     ]
    },
    {
     "name": "stdout",
     "output_type": "stream",
     "text": [
      "The lowest price for DOT in April is $5.8121 on 2024-04-13. The lowest price for DOT in April is $5.8505 on 2024-04-14.\n"
     ]
    }
   ],
   "source": [
    "user_query = \"Compare lowest price for dot with sol for april with date\"\n",
    "response = get_answer_from_sql(user_query)\n",
    "print(response)"
   ]
  },
  {
   "cell_type": "code",
   "execution_count": 10,
   "id": "380145c6",
   "metadata": {
    "ExecuteTime": {
     "end_time": "2025-02-05T05:31:45.716890Z",
     "start_time": "2025-02-05T05:31:44.175647Z"
    }
   },
   "outputs": [
    {
     "name": "stderr",
     "output_type": "stream",
     "text": [
      "2025-02-05 13:31:45,041 - INFO - HTTP Request: POST https://api.openai.com/v1/chat/completions \"HTTP/1.1 200 OK\"\n",
      "2025-02-05 13:31:45,700 - INFO - HTTP Request: POST https://api.openai.com/v1/chat/completions \"HTTP/1.1 200 OK\"\n",
      "2025-02-05 13:31:45,706 - INFO - Chain invoked successfully.\n"
     ]
    },
    {
     "data": {
      "text/plain": [
       "'Based on the SQL result, DOT is cheaper overall compared to SOL.'"
      ]
     },
     "execution_count": 10,
     "metadata": {},
     "output_type": "execute_result"
    }
   ],
   "source": [
    "user_query = \"which is cheap sol or dot overall\"\n",
    "get_answer_from_sql(user_query)"
   ]
  },
  {
   "cell_type": "code",
   "execution_count": 11,
   "id": "aec22000",
   "metadata": {
    "ExecuteTime": {
     "end_time": "2025-02-05T05:31:47.815285Z",
     "start_time": "2025-02-05T05:31:45.724466Z"
    }
   },
   "outputs": [
    {
     "name": "stderr",
     "output_type": "stream",
     "text": [
      "2025-02-05 13:31:47,182 - INFO - HTTP Request: POST https://api.openai.com/v1/chat/completions \"HTTP/1.1 200 OK\"\n",
      "2025-02-05 13:31:47,800 - INFO - HTTP Request: POST https://api.openai.com/v1/chat/completions \"HTTP/1.1 200 OK\"\n",
      "2025-02-05 13:31:47,806 - INFO - Chain invoked successfully.\n"
     ]
    },
    {
     "data": {
      "text/plain": [
       "'BTC is the most expensive overall with a high price of 108309.0.'"
      ]
     },
     "execution_count": 11,
     "metadata": {},
     "output_type": "execute_result"
    }
   ],
   "source": [
    "user_query = \"which is the most expensive overall\"\n",
    "get_answer_from_sql(user_query)"
   ]
  },
  {
   "cell_type": "markdown",
   "id": "3e7c13c3",
   "metadata": {},
   "source": [
    "### LangGraph Workflow: Agent Routing to RAG or LLM"
   ]
  },
  {
   "cell_type": "code",
   "execution_count": 12,
   "id": "dddfde7b",
   "metadata": {
    "ExecuteTime": {
     "end_time": "2025-02-05T05:31:53.340804Z",
     "start_time": "2025-02-05T05:31:53.242252Z"
    }
   },
   "outputs": [],
   "source": [
    "#https://github.com/langchain-ai/langgraph/blob/main/docs/docs/tutorials/rag/langgraph_agentic_rag.ipynb\n",
    "from langgraph.graph import Graph\n",
    "\n",
    "from typing import TypedDict, Annotated, Sequence, Optional\n",
    "import operator,re\n",
    "from langchain_core.messages import BaseMessage\n",
    "\n",
    "from langchain.output_parsers import PydanticOutputParser\n",
    "from pydantic import BaseModel , Field\n",
    "from langchain.prompts import PromptTemplate\n",
    "\n",
    "\n",
    "class TopicParser(BaseModel):\n",
    "    Topic: str = Field(description='Selected Topic')\n",
    "\n",
    "# Define AgentState with correct types and structure\n",
    "class AgentState(TypedDict):\n",
    "    user_question: str  # The original user question\n",
    "    topic: Optional[str]  # The extracted topic (can be None initially)\n",
    "    response: Optional[str] # The final response from either RAG or LLM\n",
    "    messages: Annotated[Sequence[BaseMessage], operator.add] # For Langchain message history (if needed)"
   ]
  },
  {
   "cell_type": "markdown",
   "id": "3f568c80",
   "metadata": {},
   "source": [
    "#### Nodes"
   ]
  },
  {
   "cell_type": "code",
   "execution_count": 28,
   "id": "29ef069b",
   "metadata": {
    "ExecuteTime": {
     "end_time": "2025-02-05T08:21:39.990109Z",
     "start_time": "2025-02-05T08:21:39.966129Z"
    }
   },
   "outputs": [],
   "source": [
    "TOPIC_LIST = [\"BTC\", \"ETH\", \"SOL\", \"DOT\"]\n",
    "\n",
    "### Nodes\n",
    "def agent(state: AgentState):\n",
    "    print('-> Calling Agent ->')\n",
    "    # Input validation\n",
    "    if \"user_question\" not in state or not isinstance(state[\"user_question\"], str):\n",
    "        state[\"topic\"] = \"Error: Missing or invalid user question\"\n",
    "        return state\n",
    "    \n",
    "    question = state[\"user_question\"]\n",
    "\n",
    "    template = \"\"\" Your task is to provide ONLY the topic based on the user query, in *strict* valid JSON format. \n",
    "\n",
    "    Output ONLY a JSON object with a single key named \"Topic\". The value of \"Topic\" MUST be one of the following: {TOPIC_LIST}.  Do NOT include any other text, explanations, or backticks.  The JSON must be parsable by a standard JSON library.\n",
    "\n",
    "    Examples:  <--- Few-shot examples\n",
    "    User Query: What is the price of BTC?\n",
    "    ```json\n",
    "    {{\n",
    "      \"Topic\": \"BTC\"\n",
    "    }}\n",
    "    ```\n",
    "    User Query: Tell me about Ethereum.\n",
    "    ```json\n",
    "    {{\n",
    "      \"Topic\": \"ETH\"\n",
    "    }}\n",
    "    ```\n",
    "    User Query: Compare Solana and Ethereum.\n",
    "    ```json\n",
    "    {{\n",
    "      \"Topic\": \"Others\"\n",
    "    }}\n",
    "    ```\n",
    "\n",
    "    Following is the user query:  {question}\n",
    "    \"\"\"\n",
    "\n",
    "    prompt = PromptTemplate(template=template, input_variables=[\"question\"])\n",
    "    chain = prompt | llm  \n",
    "\n",
    "    response = chain.invoke({\"question\": question, \"TOPIC_LIST\": TOPIC_LIST})  \n",
    "\n",
    "    if response:  # Check for None response\n",
    "        response_text = response.content\n",
    "\n",
    "        print(f\"Raw LLM Response: {response_text}\")\n",
    "        print(repr(response_text))  # Keep this for debugging\n",
    "\n",
    "        response_text = response_text.replace(\"```json\", \"\").replace(\"```\", \"\").strip()  # ***Remove the backticks***\n",
    "        response_text = response_text.strip()  # Remove leading/trailing whitespace\n",
    "        response_text = re.sub(r'[^\\x00-\\x7F]+', '', response_text)  # Remove non-ASCII\n",
    "\n",
    "        try:\n",
    "            # Try decoding with UTF-8, handling potential BOM\n",
    "            response_text = response_text.encode('utf-8').decode('utf-8-sig')\n",
    "            data = json.loads(response_text)\n",
    "            topic = data.get(\"Topic\")\n",
    "\n",
    "            if topic in TOPIC_LIST:\n",
    "                state[\"topic\"] = topic\n",
    "                return state\n",
    "            else:  # Validation and Fallback (Crucial!)\n",
    "                print(f\"LLM returned invalid topic: {topic}. Using 'Others'.\")  \n",
    "                state[\"topic\"] = \"Others\"  # Or handle differently\n",
    "                return state\n",
    "\n",
    "        except UnicodeDecodeError:\n",
    "            try:\n",
    "                data = json.loads(response_text)  \n",
    "                topic = data.get(\"Topic\")\n",
    "                if topic in TOPIC_LIST:\n",
    "                    state[\"topic\"] = topic\n",
    "                    return state\n",
    "                else:\n",
    "                    state[\"topic\"] = \"Error: Invalid topic received.\"  \n",
    "                    return state\n",
    "            except json.JSONDecodeError as e:\n",
    "                print(f\"JSON Decode Error: {e}\")\n",
    "                state[\"topic\"] = \"Error: Invalid JSON from LLM.\"\n",
    "                return state\n",
    "\n",
    "        except json.JSONDecodeError as e:\n",
    "            print(f\"JSON Decode Error: {e}\")\n",
    "            state[\"topic\"] = \"Error: Invalid JSON from LLM.\"\n",
    "            return state\n",
    "\n",
    "        except Exception as e:\n",
    "            print(f\"Unexpected Parsing Error: {e}\")\n",
    "            state[\"topic\"] = \"Error: Could not determine topic.\"\n",
    "            return state\n",
    "\n",
    "    else:\n",
    "        print(\"Error: No response from LLM.\")\n",
    "        state[\"topic\"] = \"Error: No response from LLM.\"\n",
    "        return state\n",
    "\n",
    "    \n",
    "\n",
    "def call_rag(state):\n",
    "    print('-> Calling RAG ->')\n",
    "    \n",
    "    user_question = state[\"user_question\"]\n",
    "    try:\n",
    "        result = get_answer_from_sql(user_question)\n",
    "        state[\"response\"] = result\n",
    "    except Exception as e:\n",
    "        state[\"response\"] = f\"Error in RAG: {e}\"  \n",
    "    return state\n",
    "\n",
    "\n",
    "def call_llm(state):\n",
    "    logging.info('-> Calling LLM ->')\n",
    "    question = state[\"user_question\"]\n",
    "    \n",
    "    try:\n",
    "        complete_query = \"Answer the following question with your knowledge of the real world: \" + question\n",
    "        response = llm.invoke(complete_query)\n",
    "        \n",
    "        # Response handling\n",
    "        if not isinstance(response.content, str):\n",
    "            state[\"response\"] = \"Error: Invalid LLM response\"\n",
    "            return state\n",
    "        \n",
    "        state[\"response\"] = response.content\n",
    "    except TimeoutError as e:\n",
    "        state[\"response\"] = f\"Error: LLM timeout - {e}\"\n",
    "    except ConnectionError as e:\n",
    "        state[\"response\"] = f\"Error: LLM connection error - {e}\"\n",
    "    except Exception as e:\n",
    "        state[\"response\"] = f\"Error in LLM: {e}\"\n",
    "    \n",
    "    logging.info('<- LLM call completed <-')\n",
    "    return state\n",
    "    \n"
   ]
  },
  {
   "cell_type": "markdown",
   "id": "2f44f60f",
   "metadata": {},
   "source": [
    "#### Router"
   ]
  },
  {
   "cell_type": "code",
   "execution_count": 29,
   "id": "6ed3c5de",
   "metadata": {
    "ExecuteTime": {
     "end_time": "2025-02-05T08:21:43.471300Z",
     "start_time": "2025-02-05T08:21:41.120071Z"
    }
   },
   "outputs": [
    {
     "name": "stdout",
     "output_type": "stream",
     "text": [
      "Testing manual router ********\n",
      "-> Calling Agent ->\n"
     ]
    },
    {
     "name": "stderr",
     "output_type": "stream",
     "text": [
      "2025-02-05 16:21:42,044 - INFO - HTTP Request: POST https://api.openai.com/v1/chat/completions \"HTTP/1.1 200 OK\"\n"
     ]
    },
    {
     "name": "stdout",
     "output_type": "stream",
     "text": [
      "Raw LLM Response: {\n",
      "  \"Topic\": \"ETH\"\n",
      "}\n",
      "'{\\n  \"Topic\": \"ETH\"\\n}'\n",
      "-> Manual Router ->\n",
      "-> Calling RAG ->\n"
     ]
    },
    {
     "name": "stderr",
     "output_type": "stream",
     "text": [
      "2025-02-05 16:21:42,860 - INFO - HTTP Request: POST https://api.openai.com/v1/chat/completions \"HTTP/1.1 200 OK\"\n",
      "2025-02-05 16:21:43,458 - INFO - HTTP Request: POST https://api.openai.com/v1/chat/completions \"HTTP/1.1 200 OK\"\n",
      "2025-02-05 16:21:43,464 - INFO - Chain invoked successfully.\n"
     ]
    },
    {
     "name": "stdout",
     "output_type": "stream",
     "text": [
      "which is cheapest ethereum?\n",
      "The cheapest Ethereum is priced at $2133.03.\n",
      "\n"
     ]
    }
   ],
   "source": [
    "def graph_router(state):\n",
    "    print('-> Router ->')\n",
    "    topic = state[\"topic\"]\n",
    "    if topic in TOPIC_LIST:\n",
    "        return 'RAG Call'\n",
    "    else:\n",
    "        return 'LLM Call'\n",
    "    \n",
    "def manual_router(state):\n",
    "    print('-> Manual Router ->')\n",
    "    topic = state[\"topic\"]\n",
    "    if topic in TOPIC_LIST:  \n",
    "        routing_decision = \"RAG Call\"\n",
    "        state = call_rag(state)\n",
    "    else:\n",
    "        routing_decision = \"LLM Call\"\n",
    "        state = call_llm(state)\n",
    "    \n",
    "    return state[\"response\"]    \n",
    "    \n",
    "def query_AI_Agent_manual(query):\n",
    "    state = {\"user_question\": query, \"topic\": None, \"response\": None}\n",
    "\n",
    "    state = agent(state)\n",
    "    routing_decision = manual_router(state)\n",
    "    print(state[\"user_question\"])\n",
    "    print(routing_decision) # Print the final response.\n",
    "    \n",
    "query= \"which is cheapest ethereum?\"\n",
    "print(\"Testing manual router ********\")\n",
    "query_AI_Agent_manual(query)\n",
    "print()"
   ]
  },
  {
   "cell_type": "markdown",
   "id": "191e9c7b",
   "metadata": {},
   "source": [
    "#### Defining Graph for the workflow"
   ]
  },
  {
   "cell_type": "raw",
   "id": "4ebb8ada",
   "metadata": {},
   "source": [
    "We will define a graph.\n",
    "A state object that it passes around to each node.\n",
    "Each node in our graph will append to it."
   ]
  },
  {
   "cell_type": "code",
   "execution_count": 30,
   "id": "e73241a6",
   "metadata": {
    "ExecuteTime": {
     "end_time": "2025-02-05T08:21:50.566234Z",
     "start_time": "2025-02-05T08:21:50.560371Z"
    }
   },
   "outputs": [],
   "source": [
    "from langgraph.graph import StateGraph,END\n",
    "\n",
    "# Define a new graph\n",
    "### StateGraph with AgentState\n",
    "workflow = StateGraph(AgentState) \n",
    "\n",
    "# Define the nodes we will cycle between\n",
    "workflow.add_node(\"agent\", agent)\n",
    "workflow.add_node(\"RAG\", call_rag)\n",
    "workflow.add_node(\"LLM\", call_llm)\n",
    "\n",
    "# entry point of the graph\n",
    "workflow.set_entry_point(\"agent\")\n",
    "\n",
    "# conditional edges are controlled by our router\n",
    "# Decide whether to call rag or llm directly\n",
    "workflow.add_conditional_edges(\n",
    "    \"agent\",  # entry point of the graph\n",
    "    graph_router,  # function to determine which node is called\n",
    "    {\n",
    "        'RAG Call': \"RAG\",\n",
    "        'LLM Call': \"LLM\",\n",
    "    }\n",
    ")\n",
    "\n",
    "workflow.add_edge(\"RAG\", END)\n",
    "workflow.add_edge(\"LLM\", END)\n",
    "\n",
    "graph = workflow.compile()"
   ]
  },
  {
   "cell_type": "markdown",
   "id": "f6c1f1d9",
   "metadata": {},
   "source": [
    "#### Visualizing the graph"
   ]
  },
  {
   "cell_type": "code",
   "execution_count": 31,
   "id": "9f4a91b7",
   "metadata": {
    "ExecuteTime": {
     "end_time": "2025-02-05T08:21:52.753929Z",
     "start_time": "2025-02-05T08:21:51.895715Z"
    }
   },
   "outputs": [
    {
     "data": {
      "image/png": "[encoded data removed]",
      "text/plain": [
       "<IPython.core.display.Image object>"
      ]
     },
     "metadata": {},
     "output_type": "display_data"
    }
   ],
   "source": [
    "from IPython.display import Image,display\n",
    "\n",
    "def display_graph(app_to_display):\n",
    "    try:\n",
    "        display(Image(app_to_display.get_graph().draw_mermaid_png()))\n",
    "    except Exception as e:\n",
    "        print(e)\n",
    "\n",
    "display_graph(graph)"
   ]
  },
  {
   "cell_type": "markdown",
   "id": "ef7ab628",
   "metadata": {},
   "source": [
    "#### Langraph graph call example"
   ]
  },
  {
   "cell_type": "code",
   "execution_count": 32,
   "id": "320f4e2c",
   "metadata": {
    "ExecuteTime": {
     "end_time": "2025-02-05T08:21:57.799448Z",
     "start_time": "2025-02-05T08:21:53.908184Z"
    }
   },
   "outputs": [
    {
     "name": "stdout",
     "output_type": "stream",
     "text": [
      "Testing graph router  ********\n",
      "-> Calling Agent ->\n"
     ]
    },
    {
     "name": "stderr",
     "output_type": "stream",
     "text": [
      "2025-02-05 16:21:56,089 - INFO - HTTP Request: POST https://api.openai.com/v1/chat/completions \"HTTP/1.1 200 OK\"\n"
     ]
    },
    {
     "name": "stdout",
     "output_type": "stream",
     "text": [
      "Raw LLM Response: ```json\n",
      "{\n",
      "  \"Topic\": \"ETH\"\n",
      "}\n",
      "```\n",
      "'```json\\n{\\n  \"Topic\": \"ETH\"\\n}\\n```'\n",
      "-> Router ->\n",
      "-> Calling RAG ->\n"
     ]
    },
    {
     "name": "stderr",
     "output_type": "stream",
     "text": [
      "2025-02-05 16:21:56,992 - INFO - HTTP Request: POST https://api.openai.com/v1/chat/completions \"HTTP/1.1 200 OK\"\n",
      "2025-02-05 16:21:57,781 - INFO - HTTP Request: POST https://api.openai.com/v1/chat/completions \"HTTP/1.1 200 OK\"\n",
      "2025-02-05 16:21:57,787 - INFO - Chain invoked successfully.\n"
     ]
    },
    {
     "data": {
      "text/plain": [
       "'The cheapest Ethereum price was $2133.03 on August 5, 2024.'"
      ]
     },
     "execution_count": 32,
     "metadata": {},
     "output_type": "execute_result"
    }
   ],
   "source": [
    "def query_AI_Agent(query):\n",
    "    initial_state: AgentState = {\n",
    "        \"user_question\": query,  \n",
    "        \"topic\": None,\n",
    "        \"response\": None,\n",
    "        \"messages\": []\n",
    "    }\n",
    "    try:\n",
    "        final_state = graph.invoke(initial_state)\n",
    "        response = final_state[\"response\"]\n",
    "        return response\n",
    "        \n",
    "    except Exception as e:\n",
    "        # Show any errors that occur during the API call\n",
    "        st.error(f\"Error: {e}\")\n",
    "        return None\n",
    "\n",
    "query = \"which is cheapest ethereum\"\n",
    "print(\"Testing graph router  ********\")\n",
    "query_AI_Agent(query)"
   ]
  },
  {
   "cell_type": "code",
   "execution_count": 24,
   "id": "13c8f3a4",
   "metadata": {
    "ExecuteTime": {
     "end_time": "2025-02-05T05:32:57.497652Z",
     "start_time": "2025-02-05T05:32:55.114175Z"
    }
   },
   "outputs": [
    {
     "name": "stdout",
     "output_type": "stream",
     "text": [
      "-> Calling Agent ->\n"
     ]
    },
    {
     "name": "stderr",
     "output_type": "stream",
     "text": [
      "2025-02-05 13:32:55,677 - INFO - HTTP Request: POST https://api.openai.com/v1/chat/completions \"HTTP/1.1 200 OK\"\n"
     ]
    },
    {
     "name": "stdout",
     "output_type": "stream",
     "text": [
      "Raw LLM Response: {\n",
      "\t\"Topic\": \"ETH\"\n",
      "}\n",
      "'{\\n\\t\"Topic\": \"ETH\"\\n}'\n",
      "-> Router ->\n",
      "-> Calling RAG ->\n"
     ]
    },
    {
     "name": "stderr",
     "output_type": "stream",
     "text": [
      "2025-02-05 13:32:56,664 - INFO - HTTP Request: POST https://api.openai.com/v1/chat/completions \"HTTP/1.1 200 OK\"\n",
      "2025-02-05 13:32:57,478 - INFO - HTTP Request: POST https://api.openai.com/v1/chat/completions \"HTTP/1.1 200 OK\"\n",
      "2025-02-05 13:32:57,486 - INFO - Chain invoked successfully.\n"
     ]
    },
    {
     "data": {
      "text/plain": [
       "'BTC is the most expensive cryptocurrency with a high value of 108309.'"
      ]
     },
     "execution_count": 24,
     "metadata": {},
     "output_type": "execute_result"
    }
   ],
   "source": [
    "query = \"which is the most expensive ETH or BTC\"\n",
    "query_AI_Agent(query)"
   ]
  },
  {
   "cell_type": "code",
   "execution_count": 20,
   "id": "43786d6b",
   "metadata": {
    "ExecuteTime": {
     "end_time": "2025-02-05T05:32:21.604516Z",
     "start_time": "2025-02-05T05:32:19.121873Z"
    }
   },
   "outputs": [
    {
     "name": "stdout",
     "output_type": "stream",
     "text": [
      "-> Calling Agent ->\n"
     ]
    },
    {
     "name": "stderr",
     "output_type": "stream",
     "text": [
      "2025-02-05 13:32:19,853 - INFO - HTTP Request: POST https://api.openai.com/v1/chat/completions \"HTTP/1.1 200 OK\"\n"
     ]
    },
    {
     "name": "stdout",
     "output_type": "stream",
     "text": [
      "Raw LLM Response: ```json\n",
      "{\n",
      "  \"Topic\": \"Others\"\n",
      "}\n",
      "```\n",
      "'```json\\n{\\n  \"Topic\": \"Others\"\\n}\\n```'\n",
      "LLM returned invalid topic: Others. Using 'Others'.\n",
      "-> Router ->\n",
      "-> Calling LLM ->\n"
     ]
    },
    {
     "name": "stderr",
     "output_type": "stream",
     "text": [
      "2025-02-05 13:32:21,588 - INFO - HTTP Request: POST https://api.openai.com/v1/chat/completions \"HTTP/1.1 200 OK\"\n"
     ]
    },
    {
     "data": {
      "text/plain": [
       "'Cryptocurrency is a type of digital or virtual currency that uses cryptography for security and is decentralized, meaning it is not issued by any central authority like a government or financial institution. Examples of cryptocurrencies include Bitcoin, Ethereum, and Litecoin. Cryptocurrencies can be used for various online transactions and investments.'"
      ]
     },
     "execution_count": 20,
     "metadata": {},
     "output_type": "execute_result"
    }
   ],
   "source": [
    "query = \"which is cryptocurrency\"\n",
    "query_AI_Agent(query)"
   ]
  },
  {
   "cell_type": "code",
   "execution_count": 21,
   "id": "0181241b",
   "metadata": {
    "ExecuteTime": {
     "end_time": "2025-02-05T05:32:24.392532Z",
     "start_time": "2025-02-05T05:32:21.766608Z"
    }
   },
   "outputs": [
    {
     "name": "stdout",
     "output_type": "stream",
     "text": [
      "-> Calling Agent ->\n"
     ]
    },
    {
     "name": "stderr",
     "output_type": "stream",
     "text": [
      "2025-02-05 13:32:22,481 - INFO - HTTP Request: POST https://api.openai.com/v1/chat/completions \"HTTP/1.1 200 OK\"\n"
     ]
    },
    {
     "name": "stdout",
     "output_type": "stream",
     "text": [
      "Raw LLM Response: ```json\n",
      "{\n",
      "  \"Topic\": \"SOL\"\n",
      "}\n",
      "```\n",
      "'```json\\n{\\n  \"Topic\": \"SOL\"\\n}\\n```'\n",
      "-> Router ->\n",
      "-> Calling RAG ->\n"
     ]
    },
    {
     "name": "stderr",
     "output_type": "stream",
     "text": [
      "2025-02-05 13:32:23,437 - INFO - HTTP Request: POST https://api.openai.com/v1/chat/completions \"HTTP/1.1 200 OK\"\n",
      "2025-02-05 13:32:24,375 - INFO - HTTP Request: POST https://api.openai.com/v1/chat/completions \"HTTP/1.1 200 OK\"\n",
      "2025-02-05 13:32:24,385 - INFO - Chain invoked successfully.\n"
     ]
    },
    {
     "data": {
      "text/plain": [
       "'Based on the SQL result, SOL is cheaper than ETH as the closing price of SOL on January 23, 2024, is 81.06 compared to ETH which is not included in the result data.'"
      ]
     },
     "execution_count": 21,
     "metadata": {},
     "output_type": "execute_result"
    }
   ],
   "source": [
    "query = \"which is cheaper SOL or ETH\"\n",
    "query_AI_Agent(query)"
   ]
  },
  {
   "cell_type": "code",
   "execution_count": null,
   "id": "bcf21d8e",
   "metadata": {},
   "outputs": [],
   "source": []
  }
 ],
 "metadata": {
  "hide_input": false,
  "kernelspec": {
   "display_name": "Python 3 (ipykernel)",
   "language": "python",
   "name": "python3"
  },
  "language_info": {
   "codemirror_mode": {
    "name": "ipython",
    "version": 3
   },
   "file_extension": ".py",
   "mimetype": "text/x-python",
   "name": "python",
   "nbconvert_exporter": "python",
   "pygments_lexer": "ipython3",
   "version": "3.12.8"
  },
  "toc": {
   "base_numbering": 1,
   "nav_menu": {},
   "number_sections": true,
   "sideBar": true,
   "skip_h1_title": false,
   "title_cell": "Table of Contents",
   "title_sidebar": "Contents",
   "toc_cell": false,
   "toc_position": {},
   "toc_section_display": true,
   "toc_window_display": false
  }
 },
 "nbformat": 4,
 "nbformat_minor": 5
}

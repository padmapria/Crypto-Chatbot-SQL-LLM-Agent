{
 "cells": [
  {
   "cell_type": "raw",
   "id": "c7f50c76",
   "metadata": {},
   "source": [
    "LangChain has a SQL Agent which provides a more flexible way of interacting with SQL Databases than a chain. The main advantages of using the SQL Agent are:\n",
    "\n",
    "It can answer questions based on the databases' schema as well as on the databases' content (like describing a specific table).\n",
    "It can recover from errors by running a generated query, catching the traceback and regenerating it correctly.\n",
    "It can query the database as many times as needed to answer the user question.\n",
    "It will save tokens by only retrieving the schema from relevant tables.\n",
    "\n",
    "https://python.langchain.com/v0.1/docs/use_cases/sql/agents/"
   ]
  },
  {
   "cell_type": "code",
   "execution_count": 1,
   "id": "eda4646f",
   "metadata": {
    "ExecuteTime": {
     "end_time": "2024-10-12T04:09:01.726731Z",
     "start_time": "2024-10-12T04:08:59.555099Z"
    }
   },
   "outputs": [],
   "source": [
    "import os,openai\n",
    "import pandas as pd\n",
    "from typing import List, Tuple\n",
    "from langchain_community.utilities import SQLDatabase\n",
    "from langchain.chains import create_sql_query_chain\n",
    "from langchain_community.tools.sql_database.tool import QuerySQLDataBaseTool\n",
    "from langchain_core.prompts import PromptTemplate\n",
    "from langchain_core.output_parsers import StrOutputParser\n",
    "from langchain_core.runnables import RunnablePassthrough\n",
    "from operator import itemgetter\n",
    "from sqlalchemy import create_engine\n",
    "from langchain_community.agent_toolkits import create_sql_agent\n",
    "from langchain_openai import ChatOpenAI\n",
    "import langchain\n",
    "langchain.debug = False\n",
    "\n",
    "import mysql.connector\n",
    "from mysql.connector import pooling\n",
    "from datetime import datetime  # Import datetime for timestamp handling\n",
    "import logging\n",
    "from dotenv import load_dotenv\n",
    "\n",
    "# Load environment variables\n",
    "load_dotenv()\n",
    "\n",
    "# Set the OpenAI API key\n",
    "openai_api_key = os.getenv(\"OPENAI_API_KEY\")\n",
    "\n",
    "logging.basicConfig(level=logging.INFO, format='%(asctime)s - %(levelname)s - %(message)s')"
   ]
  },
  {
   "cell_type": "code",
   "execution_count": 31,
   "id": "42308bf1",
   "metadata": {
    "ExecuteTime": {
     "end_time": "2024-10-12T03:16:57.919300Z",
     "start_time": "2024-10-12T03:16:57.906676Z"
    }
   },
   "outputs": [],
   "source": [
    "# Get the variables from the environment\n",
    "load_dotenv(dotenv_path=\".env.dbdetails\")\n",
    "db_user = os.getenv('DB_USER')\n",
    "db_password = os.getenv('DB_PASSWORD')\n",
    "db_host = \"localhost\"  ## Docker dbhost is not connecting via jupyter  \n",
    "db_port = os.getenv('DB_PORT')\n",
    "db_name = os.getenv('DB_NAME')\n",
    "\n",
    "# Construct the MySQL URI\n",
    "mysql_uri = f\"mysql+mysqlconnector://{db_user}:{db_password}@{db_host}:{db_port}/{db_name}\""
   ]
  },
  {
   "cell_type": "code",
   "execution_count": 32,
   "id": "82c18514",
   "metadata": {
    "ExecuteTime": {
     "end_time": "2024-10-12T03:17:10.926769Z",
     "start_time": "2024-10-12T03:17:10.010797Z"
    }
   },
   "outputs": [
    {
     "name": "stdout",
     "output_type": "stream",
     "text": [
      "mysql\n"
     ]
    }
   ],
   "source": [
    "# Define MySQL URI\n",
    "engine = create_engine(mysql_uri)\n",
    "\n",
    "# Create SQLDatabase object from URI\n",
    "db = SQLDatabase.from_uri(mysql_uri)\n",
    "print(db.dialect)\n",
    "\n",
    "llm = ChatOpenAI(model=\"gpt-3.5-turbo\", temperature=1)\n",
    "agent_executor = create_sql_agent(llm, db=db, agent_type=\"openai-tools\",return_intermediate_steps=False, return_direct=True)"
   ]
  },
  {
   "cell_type": "code",
   "execution_count": 19,
   "id": "a88a0dd8",
   "metadata": {
    "ExecuteTime": {
     "end_time": "2024-10-12T03:06:01.759814Z",
     "start_time": "2024-10-12T03:06:01.602703Z"
    }
   },
   "outputs": [
    {
     "name": "stdout",
     "output_type": "stream",
     "text": [
      "\n",
      "Combined DataFrame shape: (732, 6)\n",
      "\n",
      "Table 'crypto_data' exists and has shape: (732, 6)\n"
     ]
    }
   ],
   "source": [
    "import glob\n",
    "\n",
    "def prepare_data():\n",
    "    # Define data folder path\n",
    "    data_folder = '../data/'\n",
    "\n",
    "    # Get list of CSV files starting with \"CRYPTOCURRENCY\"\n",
    "    files = glob.glob(data_folder + 'CRYPTOCURRENCY*.csv')\n",
    "\n",
    "    # Initialize empty list to store DataFrames\n",
    "    dfs = []\n",
    "    # Load each CSV file into a DataFrame and append to list\n",
    "    for file in files:\n",
    "        df = pd.read_csv(file)\n",
    "        dfs.append(df)\n",
    "\n",
    "    # Concatenate all DataFrames into a single DataFrame\n",
    "    combined_df = pd.concat(dfs, ignore_index=True)\n",
    "    combined_df = combined_df.rename(columns={\n",
    "    'cryptocurrency': 'Symbol'\n",
    "    }).astype({\n",
    "    'Date': 'datetime64[ns]',\n",
    "    'Symbol': 'object'\n",
    "    })\n",
    "    \n",
    "    \n",
    "    # Remove commas from columns and then convert to float\n",
    "    combined_df['Open'] = pd.to_numeric(combined_df['Open'].replace(',', '', regex=True), errors='coerce')\n",
    "    combined_df['Close'] = pd.to_numeric(combined_df['Close'].replace(',', '', regex=True), errors='coerce')\n",
    "    combined_df['Low'] = pd.to_numeric(combined_df['Low'].replace(',', '', regex=True), errors='coerce')\n",
    "    combined_df['High'] = pd.to_numeric(combined_df['High'].replace(',', '', regex=True), errors='coerce')\n",
    "\n",
    "    print(\"\\nCombined DataFrame shape:\", combined_df.shape)\n",
    "    return combined_df\n",
    "\n",
    "def create_db_table(combined_df):\n",
    "    # Create table in MySQL database\n",
    "    combined_df.to_sql(\"crypto_data\", engine, index=False, if_exists=\"replace\")\n",
    "    \n",
    "    # Test if table is created\n",
    "    try:\n",
    "        result = pd.read_sql_table(\"crypto_data\", engine)\n",
    "        print(\"\\nTable 'crypto_data' exists and has shape:\", result.shape)\n",
    "    except Exception as e:\n",
    "        print(\"\\nError:\", str(e))\n",
    "        \n",
    "combined_df = prepare_data()\n",
    "create_db_table(combined_df)"
   ]
  },
  {
   "cell_type": "markdown",
   "id": "1aab7275",
   "metadata": {},
   "source": [
    "### Pass user query and create sql query with llm"
   ]
  },
  {
   "cell_type": "code",
   "execution_count": 33,
   "id": "1947afca",
   "metadata": {
    "ExecuteTime": {
     "end_time": "2024-10-12T03:17:30.021541Z",
     "start_time": "2024-10-12T03:17:28.951998Z"
    }
   },
   "outputs": [
    {
     "name": "stderr",
     "output_type": "stream",
     "text": [
      "2024-10-12 11:17:30,004 - INFO - HTTP Request: POST https://api.openai.com/v1/chat/completions \"HTTP/1.1 200 OK\"\n"
     ]
    },
    {
     "name": "stdout",
     "output_type": "stream",
     "text": [
      "SELECT COUNT(DISTINCT `Symbol`) AS unique_symbols FROM crypto_data;\n"
     ]
    },
    {
     "data": {
      "text/plain": [
       "'[(4,)]'"
      ]
     },
     "execution_count": 33,
     "metadata": {},
     "output_type": "execute_result"
    }
   ],
   "source": [
    "chain = create_sql_query_chain(llm, db)\n",
    "response = chain.invoke({\"question\": \"How many unique symbol are there in crypto_data\"})\n",
    "print(response)\n",
    "db.run(response)"
   ]
  },
  {
   "cell_type": "markdown",
   "id": "9c777b18",
   "metadata": {},
   "source": [
    "### Pass user query and create sql query with llm and pass the query result to llm to generate meaningful answer"
   ]
  },
  {
   "cell_type": "code",
   "execution_count": 21,
   "id": "4ba7b2ef",
   "metadata": {
    "ExecuteTime": {
     "end_time": "2024-10-12T03:06:07.800527Z",
     "start_time": "2024-10-12T03:06:06.028786Z"
    }
   },
   "outputs": [
    {
     "name": "stderr",
     "output_type": "stream",
     "text": [
      "2024-10-12 11:06:07,111 - INFO - HTTP Request: POST https://api.openai.com/v1/chat/completions \"HTTP/1.1 200 OK\"\n",
      "2024-10-12 11:06:07,787 - INFO - HTTP Request: POST https://api.openai.com/v1/chat/completions \"HTTP/1.1 200 OK\"\n",
      "2024-10-12 11:06:07,793 - INFO - Chain invoked successfully.\n"
     ]
    },
    {
     "name": "stdout",
     "output_type": "stream",
     "text": [
      "The lowest price for Ethereum in April was $2864.54.\n"
     ]
    }
   ],
   "source": [
    "from operator import itemgetter\n",
    "from langchain_core.output_parsers import StrOutputParser\n",
    "#OutputParser that parses LLMResult into the top likely string.\n",
    "from langchain_core.prompts import PromptTemplate\n",
    "from langchain_core.runnables import RunnablePassthrough\n",
    "\n",
    "def get_answer_from_sql(user_query):\n",
    "    answer_prompt = PromptTemplate.from_template(\n",
    "        \"\"\"Given the following user question,corresponding SQL query, and SQL result, \n",
    "        answer the user question in upto 4 lines from the data provided in the SQL result.\n",
    "\n",
    "        Question: {question}\n",
    "        SQL Query: {query}\n",
    "        SQL Result: {result}\n",
    "        Answer: \"\"\"\n",
    "    )\n",
    "\n",
    "    execute_query = QuerySQLDataBaseTool(db=db)\n",
    "    write_query = create_sql_query_chain(llm, db)\n",
    "    answer = answer_prompt | llm | StrOutputParser()\n",
    "\n",
    "    chain = (\n",
    "        RunnablePassthrough.assign(query=write_query).assign(\n",
    "            result=itemgetter(\"query\") | execute_query \n",
    "        )\n",
    "        | answer_prompt\n",
    "        | llm\n",
    "        | StrOutputParser()\n",
    "    )\n",
    "\n",
    "    try:\n",
    "        response = chain.invoke({\"question\": user_query})\n",
    "        logging.info(\"Chain invoked successfully.\")\n",
    "        return response\n",
    "    except Exception as e:\n",
    "        logging.error(f\"An error occurred: {e}\")\n",
    "\n",
    "\n",
    "user_query = \"what is the lowest price for ethereum in april\"\n",
    "response = get_answer_from_sql(user_query)\n",
    "print(response)\n"
   ]
  },
  {
   "cell_type": "code",
   "execution_count": 22,
   "id": "5b7824d1",
   "metadata": {
    "ExecuteTime": {
     "end_time": "2024-10-12T03:06:12.376559Z",
     "start_time": "2024-10-12T03:06:10.405901Z"
    }
   },
   "outputs": [
    {
     "name": "stderr",
     "output_type": "stream",
     "text": [
      "2024-10-12 11:06:11,644 - INFO - HTTP Request: POST https://api.openai.com/v1/chat/completions \"HTTP/1.1 200 OK\"\n",
      "2024-10-12 11:06:12,363 - INFO - HTTP Request: POST https://api.openai.com/v1/chat/completions \"HTTP/1.1 200 OK\"\n",
      "2024-10-12 11:06:12,368 - INFO - Chain invoked successfully.\n"
     ]
    },
    {
     "name": "stdout",
     "output_type": "stream",
     "text": [
      "Sol is cheaper overall compared to ETH based on the provided data in the SQL result.\n"
     ]
    }
   ],
   "source": [
    "user_query = \"which is cheap sol or eth overall\"\n",
    "response = get_answer_from_sql(user_query)\n",
    "print(response)"
   ]
  },
  {
   "cell_type": "code",
   "execution_count": 23,
   "id": "1da187da",
   "metadata": {
    "ExecuteTime": {
     "end_time": "2024-10-12T03:06:15.721964Z",
     "start_time": "2024-10-12T03:06:13.621909Z"
    }
   },
   "outputs": [
    {
     "name": "stderr",
     "output_type": "stream",
     "text": [
      "2024-10-12 11:06:14,902 - INFO - HTTP Request: POST https://api.openai.com/v1/chat/completions \"HTTP/1.1 200 OK\"\n",
      "2024-10-12 11:06:15,708 - INFO - HTTP Request: POST https://api.openai.com/v1/chat/completions \"HTTP/1.1 200 OK\"\n",
      "2024-10-12 11:06:15,715 - INFO - Chain invoked successfully.\n"
     ]
    },
    {
     "name": "stdout",
     "output_type": "stream",
     "text": [
      "The lowest price for DOT in April was 5.8121 on April 13th.\n"
     ]
    }
   ],
   "source": [
    "user_query = \"Compare lowest price for dot with sol for april with date\"\n",
    "response = get_answer_from_sql(user_query)\n",
    "print(response)"
   ]
  },
  {
   "cell_type": "code",
   "execution_count": 24,
   "id": "380145c6",
   "metadata": {
    "ExecuteTime": {
     "end_time": "2024-10-12T03:06:18.836621Z",
     "start_time": "2024-10-12T03:06:17.078847Z"
    }
   },
   "outputs": [
    {
     "name": "stderr",
     "output_type": "stream",
     "text": [
      "2024-10-12 11:06:18,050 - INFO - HTTP Request: POST https://api.openai.com/v1/chat/completions \"HTTP/1.1 200 OK\"\n",
      "2024-10-12 11:06:18,827 - INFO - HTTP Request: POST https://api.openai.com/v1/chat/completions \"HTTP/1.1 200 OK\"\n",
      "2024-10-12 11:06:18,832 - INFO - Chain invoked successfully.\n"
     ]
    },
    {
     "data": {
      "text/plain": [
       "'Based on the SQL result, DOT seems to be cheaper overall compared to SOL.'"
      ]
     },
     "execution_count": 24,
     "metadata": {},
     "output_type": "execute_result"
    }
   ],
   "source": [
    "user_query = \"which is cheap sol or dot overall\"\n",
    "get_answer_from_sql(user_query)"
   ]
  },
  {
   "cell_type": "code",
   "execution_count": 25,
   "id": "aec22000",
   "metadata": {
    "ExecuteTime": {
     "end_time": "2024-10-12T03:06:21.585156Z",
     "start_time": "2024-10-12T03:06:19.626874Z"
    }
   },
   "outputs": [
    {
     "name": "stderr",
     "output_type": "stream",
     "text": [
      "2024-10-12 11:06:20,655 - INFO - HTTP Request: POST https://api.openai.com/v1/chat/completions \"HTTP/1.1 200 OK\"\n",
      "2024-10-12 11:06:21,579 - INFO - HTTP Request: POST https://api.openai.com/v1/chat/completions \"HTTP/1.1 200 OK\"\n",
      "2024-10-12 11:06:21,581 - INFO - Chain invoked successfully.\n"
     ]
    },
    {
     "data": {
      "text/plain": [
       "'BTC has the highest overall high price of 72695.0.'"
      ]
     },
     "execution_count": 25,
     "metadata": {},
     "output_type": "execute_result"
    }
   ],
   "source": [
    "user_query = \"which is the most expensive overall\"\n",
    "get_answer_from_sql(user_query)"
   ]
  },
  {
   "cell_type": "code",
   "execution_count": null,
   "id": "b6e69882",
   "metadata": {},
   "outputs": [],
   "source": []
  }
 ],
 "metadata": {
  "hide_input": false,
  "kernelspec": {
   "display_name": "Python 3 (ipykernel)",
   "language": "python",
   "name": "python3"
  },
  "language_info": {
   "codemirror_mode": {
    "name": "ipython",
    "version": 3
   },
   "file_extension": ".py",
   "mimetype": "text/x-python",
   "name": "python",
   "nbconvert_exporter": "python",
   "pygments_lexer": "ipython3",
   "version": "3.12.5"
  },
  "toc": {
   "base_numbering": 1,
   "nav_menu": {},
   "number_sections": true,
   "sideBar": true,
   "skip_h1_title": false,
   "title_cell": "Table of Contents",
   "title_sidebar": "Contents",
   "toc_cell": false,
   "toc_position": {},
   "toc_section_display": true,
   "toc_window_display": false
  }
 },
 "nbformat": 4,
 "nbformat_minor": 5
}
